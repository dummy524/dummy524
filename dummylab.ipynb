{
 "cells": [
  {
   "cell_type": "markdown",
   "metadata": {},
   "source": [
    "# DSCI 999 - DUMMY LAB\n",
    "\n",
    "# Lab 1: A dummy lab to test the parsing features\n",
    "\n",
    "If this lab is properly parsed, there should be 19 required points, 20 optional points, and 39 points total."
   ]
  },
  {
   "cell_type": "markdown",
   "metadata": {},
   "source": [
    "## Table of contents\n",
    "- [Submission instructions](#si) (5%)\n",
    "- [Imports](#im)\n",
    "- [Exercise 1: Warm-up](#1) (35%)"
   ]
  },
  {
   "cell_type": "markdown",
   "metadata": {},
   "source": [
    "## Submission instructions <a name=\"si\"></a>\n",
    "<hr>\n",
    "rubric={mechanics:5}\n",
    "\n",
    "In this example, the rubric follows \n",
    "\n",
    "You will receive marks for correctly submitting this assignment. \n",
    "\n",
    "To correctly submit this assignment follow the instructions below:\n",
    "\n",
    "- Push your assignment to your GitHub repository. \n",
    "- Add a link to your GitHub repository here: **INSERT LINK HERE**\n",
    "- Upload an HTML render of your assignment to Canvas. The last cell of this notebook will help you do that.\n",
    "- Be sure to follow the [general lab instructions](https://ubc-mds.github.io/resources_pages/general_lab_instructions/).\n",
    "\n",
    "[Here](https://github.com/UBC-MDS/public/tree/master/rubric) you will find the description of each rubric used in MDS.\n",
    "\n",
    "**NOTE: The data you download for use in this lab SHOULD NOT BE PUSHED TO YOUR REPOSITORY. You might be penalised for pushing datasets to your repository. I have seeded the repository with `.gitignore` and hoping that it won't let you push CSVs.**"
   ]
  },
  {
   "cell_type": "markdown",
   "metadata": {},
   "source": [
    "<br><br><br><br>"
   ]
  },
  {
   "cell_type": "markdown",
   "metadata": {},
   "source": [
    "## Imports <a name=\"im\"></a>"
   ]
  },
  {
   "cell_type": "code",
   "execution_count": 1,
   "metadata": {},
   "outputs": [],
   "source": [
    "import os\n",
    "import pandas as pd\n",
    "import numpy as np"
   ]
  },
  {
   "cell_type": "markdown",
   "metadata": {},
   "source": [
    "<br><br><br><br>"
   ]
  },
  {
   "cell_type": "markdown",
   "metadata": {},
   "source": [
    "## Exercise 1: Warm-up <a name=\"1\"></a>\n",
    "<hr>\n",
    "\n",
    "Lorem ipsum dolor sit amet, consectetur adipiscing elit. Donec at massa a quam posuere elementum at nec lectus. Vivamus in pharetra neque. Vivamus sit amet enim sed lorem imperdiet pretium. Vestibulum dignissim facilisis neque non rhoncus. Vestibulum facilisis egestas nulla in molestie. Pellentesque vel tempus magna. Lorem ipsum dolor sit amet, consectetur adipiscing elit. Pellentesque vitae nibh sollicitudin, rhoncus nunc at, sollicitudin nibh. Fusce at enim consectetur tortor aliquam maximus ac ullamcorper leo. Proin consectetur nulla et rhoncus posuere. Proin gravida ut mi quis elementum. Suspendisse laoreet, eros in consectetur tristique, massa velit maximus sapien, sit amet porta dui ex sed leo. Etiam id est arcu."
   ]
  },
  {
   "cell_type": "markdown",
   "metadata": {},
   "source": [
    "### 1.1 Data Loading and Exploration\n",
    "rubric={reasoning:4}\n",
    "\n",
    "Note, the above code is the simplest, as the rubric follows right below the heading. \n",
    "\n",
    "**Your tasks:**\n",
    "\n",
    "Run the code below and answer the following question. \n",
    "\n",
    "1. What is your favourite animal?   \n",
    "\n",
    "> *Note 1: Some comment\n"
   ]
  },
  {
   "cell_type": "code",
   "execution_count": 1,
   "metadata": {},
   "outputs": [
    {
     "data": {
      "text/plain": [
       "2"
      ]
     },
     "execution_count": 1,
     "metadata": {},
     "output_type": "execute_result"
    }
   ],
   "source": [
    "1 + 1"
   ]
  },
  {
   "cell_type": "markdown",
   "metadata": {},
   "source": [
    "### Solution_1_1_1\n",
    "\n",
    "\n",
    "Your answer here."
   ]
  },
  {
   "cell_type": "markdown",
   "metadata": {},
   "source": [
    "<br><br>"
   ]
  },
  {
   "cell_type": "markdown",
   "metadata": {},
   "source": [
    "### 1.2 A second exercise\n",
    "\n",
    "rubric={accuracy:3,reasoning:2}\n",
    "\n",
    "In this example, there is an extra line between the header and the rubric. The rubric has two components."
   ]
  },
  {
   "cell_type": "markdown",
   "metadata": {},
   "source": [
    "### Solution_1_2_2\n",
    "\n",
    "\n",
    "Your answer here."
   ]
  },
  {
   "cell_type": "markdown",
   "metadata": {},
   "source": [
    "<br><br>"
   ]
  },
  {
   "cell_type": "markdown",
   "metadata": {},
   "source": [
    "### 1.3 (optional) A third exercise\n",
    "rubric={accuracy:6,reasoning:4}\n",
    "\n",
    "Curabitur in mauris id sapien accumsan pretium nec non leo. Cras ipsum nulla, condimentum eget vulputate eu, rutrum vel nisl. Pellentesque luctus velit eu lacus malesuada auctor. Sed lobortis mauris eget sem fermentum lobortis. Cras bibendum magna risus, tincidunt placerat ex hendrerit et. Aenean sit amet lorem ac ante egestas pretium. Donec sed nisi risus. Pellentesque habitant morbi tristique senectus et netus et malesuada fames ac turpis egestas. Nulla ut erat id massa imperdiet congue sed ut lacus.\n",
    "\n",
    "Quisque feugiat varius nunc ac pellentesque. Mauris pretium ante id nibh malesuada aliquam. Suspendisse bibendum ex sed sollicitudin bibendum. Suspendisse potenti. Donec auctor pharetra ultricies. Aliquam erat volutpat. Praesent in tincidunt nisl, sit amet blandit augue. Phasellus et est mollis, imperdiet orci ac, scelerisque est. Nullam mattis ultricies porttitor. Donec eu euismod purus, vitae luctus ipsum. Maecenas vitae ullamcorper felis. Integer felis sapien, commodo at metus ut, hendrerit imperdiet elit. In quis posuere libero."
   ]
  },
  {
   "cell_type": "markdown",
   "metadata": {},
   "source": [
    "### Solution_1_3_1\n",
    "\n",
    "Your answer here."
   ]
  },
  {
   "cell_type": "code",
   "execution_count": 2,
   "metadata": {},
   "outputs": [
    {
     "ename": "ZeroDivisionError",
     "evalue": "division by zero",
     "output_type": "error",
     "traceback": [
      "\u001b[0;31m---------------------------------------------------------------------------\u001b[0m",
      "\u001b[0;31mZeroDivisionError\u001b[0m                         Traceback (most recent call last)",
      "\u001b[0;32m<ipython-input-2-7fcb27734ae9>\u001b[0m in \u001b[0;36m<module>\u001b[0;34m\u001b[0m\n\u001b[1;32m      1\u001b[0m \u001b[0;31m# should still be able to parse even if some cells error\u001b[0m\u001b[0;34m\u001b[0m\u001b[0;34m\u001b[0m\u001b[0;34m\u001b[0m\u001b[0m\n\u001b[1;32m      2\u001b[0m \u001b[0;34m\u001b[0m\u001b[0m\n\u001b[0;32m----> 3\u001b[0;31m \u001b[0;36m1\u001b[0m \u001b[0;34m/\u001b[0m \u001b[0;36m0\u001b[0m\u001b[0;34m\u001b[0m\u001b[0;34m\u001b[0m\u001b[0m\n\u001b[0m",
      "\u001b[0;31mZeroDivisionError\u001b[0m: division by zero"
     ]
    }
   ],
   "source": [
    "# should still be able to parse even if some cells error\n",
    "\n",
    "1 / 0"
   ]
  },
  {
   "cell_type": "markdown",
   "metadata": {},
   "source": [
    "<br><br>"
   ]
  },
  {
   "cell_type": "markdown",
   "metadata": {},
   "source": [
    "### 1.4 Another Optional Exercise\n",
    "<br>\n",
    "rubric={accuracy:7,reasoning:3}\n",
    "\n",
    "\n",
    "Note how this one is capitalized, and that there is a `<br>` tag between the rubric and header"
   ]
  },
  {
   "cell_type": "markdown",
   "metadata": {},
   "source": [
    "<br><br>"
   ]
  },
  {
   "cell_type": "markdown",
   "metadata": {},
   "source": [
    "### 1.5 Visualizing results \n",
    " rubric={viz:5}\n",
    "\n",
    "In this example, there is a leading space in front of \"rubric\"\n",
    "\n",
    "In eget elit interdum, tincidunt augue in, fringilla eros. Aenean congue porttitor turpis nec tempus. Suspendisse blandit, velit sed vehicula tincidunt, enim dui luctus orci, nec volutpat diam augue vel neque. Nam scelerisque luctus risus, sed ornare turpis euismod vel. Duis ultricies lectus non ipsum imperdiet, quis dictum elit vulputate. Aenean quis arcu hendrerit, maximus justo vel, commodo lorem. Vivamus in lacinia turpis, a accumsan purus. Sed ultricies nunc sit amet pulvinar fermentum. Vivamus tempus, magna vitae varius sagittis, leo metus convallis eros, non condimentum ligula ligula at mauris. Vivamus fermentum nibh quis tortor porttitor vulputate. Vestibulum lacus nisl, condimentum ac sagittis mattis, laoreet in risus. Aliquam erat volutpat. Vestibulum finibus purus sed enim fringilla, et cursus leo ornare. "
   ]
  },
  {
   "cell_type": "markdown",
   "metadata": {},
   "source": [
    "<br><br><br><br>"
   ]
  },
  {
   "cell_type": "markdown",
   "metadata": {},
   "source": [
    "<br><br>"
   ]
  },
  {
   "cell_type": "markdown",
   "metadata": {},
   "source": [
    "### A side note \n",
    "rubric is a word that can be a trap, if it is placed at the start of a sentence but do not actually convey points.\n",
    "\n",
    "They can also be used in the middle of a sentence, like when I mention a rubric here."
   ]
  },
  {
   "cell_type": "markdown",
   "metadata": {},
   "source": [
    "### Submission to Canvas\n",
    "\n",
    "**PLEASE READ: When you are ready to submit your assignment do the following:**\n",
    "\n",
    "- Run all cells in your notebook to make sure there are no errors by doing Kernel -->  Restart Kernel and Run All Cells...\n",
    "- Make sure that all plots are visible in your HTML render. \n",
    "- If you are using the \"999\" `conda` environment, make sure to select it before running all cells. \n",
    "- Convert your notebook to .html format using the `convert_notebook()` function below or by File -> Export Notebook As... -> Export Notebook to HTML\n",
    "- Run the code `submit()` below to go through an interactive submission process to Canvas.\n",
    "After submission, be sure to do a final push of all your work to GitHub (including the rendered html file)."
   ]
  },
  {
   "cell_type": "code",
   "execution_count": 66,
   "metadata": {},
   "outputs": [],
   "source": [
    "# from canvasutils.submit import convert_notebook, submit\n",
    "\n",
    "# convert_notebook(\"dummylab.ipynb\", \"html_embed\")  # uncomment and run when you want to try convert your notebook (or you can convert manually from the File menu)\n",
    "# submit(course_code=99999)  # uncomment and run when ready to submit to Canvas\n"
   ]
  },
  {
   "cell_type": "markdown",
   "metadata": {},
   "source": [
    "Well done!! Congratulations on finishing the lab!! "
   ]
  }
 ],
 "metadata": {
  "kernelspec": {
   "display_name": "Python [conda env:563]",
   "language": "python",
   "name": "conda-env-563-py"
  },
  "language_info": {
   "codemirror_mode": {
    "name": "ipython",
    "version": 3
   },
   "file_extension": ".py",
   "mimetype": "text/x-python",
   "name": "python",
   "nbconvert_exporter": "python",
   "pygments_lexer": "ipython3",
   "version": "3.8.6"
  }
 },
 "nbformat": 4,
 "nbformat_minor": 4
}
